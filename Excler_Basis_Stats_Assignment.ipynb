{
 "cells": [
  {
   "cell_type": "markdown",
   "id": "56919fff",
   "metadata": {},
   "source": [
    "## Build 99% Confidence Interval Using Sample Standard Deviation"
   ]
  },
  {
   "cell_type": "code",
   "execution_count": 2,
   "id": "9d611454",
   "metadata": {},
   "outputs": [],
   "source": [
    "import pandas as pd \n",
    "import numpy as np\n",
    "from scipy.stats import t\n",
    "data = [1.13, 1.55, 1.43, 0.92, 1.25, 1.36, 1.32, 0.85, 1.07, 1.48, 1.20, 1.33, 1.18, 1.22, 1.29]"
   ]
  },
  {
   "cell_type": "code",
   "execution_count": 3,
   "id": "c72228ca",
   "metadata": {},
   "outputs": [],
   "source": [
    "n = len(data)  # Sample size\n",
    "mean = np.mean(data)  # Sample mean\n",
    "std_dev = np.std(data, ddof=1) \n",
    "SE = std_dev / np.sqrt(n)"
   ]
  },
  {
   "cell_type": "code",
   "execution_count": 4,
   "id": "64eb18bc",
   "metadata": {},
   "outputs": [],
   "source": [
    "confidence_level = 0.99\n",
    "df = n - 1  # Degrees of freedom\n",
    "t_critical = t.ppf(1 - (1 - confidence_level) / 2, df)\n"
   ]
  },
  {
   "cell_type": "code",
   "execution_count": 5,
   "id": "39b713c8",
   "metadata": {},
   "outputs": [],
   "source": [
    "#Confidence interval calculations \n",
    "margin_of_error = t_critical * SE\n",
    "lower_bound = mean - margin_of_error\n",
    "upper_bound = mean + margin_of_error\n"
   ]
  },
  {
   "cell_type": "code",
   "execution_count": 6,
   "id": "b8b130c5",
   "metadata": {},
   "outputs": [
    {
     "name": "stdout",
     "output_type": "stream",
     "text": [
      "Sample Mean: 1.2386666666666666\n",
      "Sample Standard Deviation: 0.19316412956959936\n",
      "Standard Error: 0.04987476379384733\n",
      "Critical t-value: 2.97684273411266\n",
      "99% Confidence Interval: (1.090, 1.387)\n"
     ]
    }
   ],
   "source": [
    "print(\"Sample Mean:\", mean)\n",
    "print(\"Sample Standard Deviation:\", std_dev)\n",
    "print(\"Standard Error:\", SE)\n",
    "print(\"Critical t-value:\", t_critical)\n",
    "print(\"99% Confidence Interval: ({:.3f}, {:.3f})\".format(lower_bound, upper_bound))\n"
   ]
  },
  {
   "cell_type": "markdown",
   "id": "35f45045",
   "metadata": {},
   "source": [
    "## Build 99% Confidence Interval Using Known Population Standard Deviation\n"
   ]
  },
  {
   "cell_type": "code",
   "execution_count": 8,
   "id": "67b66ebf",
   "metadata": {},
   "outputs": [],
   "source": [
    "import numpy as np\n",
    "from scipy.stats import norm\n",
    "data = [1.13, 1.55, 1.43, 0.92, 1.25, 1.36, 1.32, 0.85, 1.07, 1.48, 1.20, 1.33, 1.18, 1.22, 1.29]\n"
   ]
  },
  {
   "cell_type": "code",
   "execution_count": 9,
   "id": "b2b1fb8e",
   "metadata": {},
   "outputs": [],
   "source": [
    "#given population standard deviation \n",
    "pop_std_dev=0.2"
   ]
  },
  {
   "cell_type": "code",
   "execution_count": 10,
   "id": "2a6629d1",
   "metadata": {},
   "outputs": [],
   "source": [
    "n=len(data)\n",
    "mean=np.mean(data)\n",
    "SE=pop_std_dev/np.sqrt(n)"
   ]
  },
  {
   "cell_type": "code",
   "execution_count": 11,
   "id": "cf757d25",
   "metadata": {},
   "outputs": [],
   "source": [
    "#critical z value for 99% confidence interval\n",
    "confidence_level=0.99\n",
    "z_critical = norm.ppf(1 - (1 - confidence_level) / 2)"
   ]
  },
  {
   "cell_type": "code",
   "execution_count": 12,
   "id": "66d34717",
   "metadata": {},
   "outputs": [],
   "source": [
    "margin_of_error = z_critical * SE\n",
    "lower_bound = mean - margin_of_error\n",
    "upper_bound = mean + margin_of_error"
   ]
  },
  {
   "cell_type": "code",
   "execution_count": 13,
   "id": "66147baf",
   "metadata": {},
   "outputs": [
    {
     "name": "stdout",
     "output_type": "stream",
     "text": [
      "Sample Mean: 1.2386666666666666\n",
      "Population Standard Deviation: 0.2\n",
      "Standard Error: 0.051639777949432225\n",
      "Critical z-value: 2.5758293035489004\n",
      "99% Confidence Interval: (1.106, 1.372)\n"
     ]
    }
   ],
   "source": [
    "print(\"Sample Mean:\", mean)\n",
    "print(\"Population Standard Deviation:\", pop_std_dev)\n",
    "print(\"Standard Error:\", SE)\n",
    "print(\"Critical z-value:\", z_critical)\n",
    "print(\"99% Confidence Interval: ({:.3f}, {:.3f})\".format(lower_bound, upper_bound))\n"
   ]
  },
  {
   "cell_type": "code",
   "execution_count": null,
   "id": "c6ffb9e3",
   "metadata": {},
   "outputs": [],
   "source": []
  }
 ],
 "metadata": {
  "kernelspec": {
   "display_name": "Python 3 (ipykernel)",
   "language": "python",
   "name": "python3"
  },
  "language_info": {
   "codemirror_mode": {
    "name": "ipython",
    "version": 3
   },
   "file_extension": ".py",
   "mimetype": "text/x-python",
   "name": "python",
   "nbconvert_exporter": "python",
   "pygments_lexer": "ipython3",
   "version": "3.12.4"
  }
 },
 "nbformat": 4,
 "nbformat_minor": 5
}
